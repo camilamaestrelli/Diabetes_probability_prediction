{
 "cells": [
  {
   "cell_type": "raw",
   "id": "65c967d6",
   "metadata": {},
   "source": []
  },
  {
   "cell_type": "code",
   "execution_count": 8,
   "id": "8d70c81e",
   "metadata": {},
   "outputs": [],
   "source": [
    "import pickle\n",
    "import pandas as pd\n",
    "import numpy as np\n",
    "from sklearn.tree import DecisionTreeClassifier \n",
    "from sklearn.linear_model import LogisticRegression \n",
    "from sklearn.neighbors import KNeighborsClassifier \n",
    "from sklearn.ensemble import VotingClassifier\n",
    "import joblib"
   ]
  },
  {
   "cell_type": "code",
   "execution_count": 11,
   "id": "01be9931",
   "metadata": {},
   "outputs": [
    {
     "data": {
      "text/plain": [
       "'0.24.1'"
      ]
     },
     "execution_count": 11,
     "metadata": {},
     "output_type": "execute_result"
    }
   ],
   "source": [
    "import sklearn\n",
    "sklearn.__version__"
   ]
  },
  {
   "cell_type": "code",
   "execution_count": 13,
   "id": "b04a318a",
   "metadata": {},
   "outputs": [],
   "source": [
    "#modelo_pickle = open('modelo_diabetes','rb')\n",
    "#modelo = pickle.load(modelo_pickle)\n",
    "#modelo_pickle.close()\n",
    "modelo = joblib.load('https://github.com/camilamaestrelli/Diabetes_probability_prediction/blob/main/modelo_diabetes.joblib')\n"
   ]
  },
  {
   "cell_type": "code",
   "execution_count": 29,
   "id": "45c8e17e",
   "metadata": {},
   "outputs": [],
   "source": [
    "# Importando bibliotecas\n",
    "from ipywidgets import widgets, HBox, VBox\n",
    "from IPython.display import display\n",
    "import numpy as np\n",
    "\n",
    "# Criando os controles do formulário\n",
    "quantidade_gravidez = widgets.Text(description=\"Gravidez qtde? \")\n",
    "glicose = widgets.Text(description=\"Glicose 2 horas depois de ter bebido o líquido açucarado: \")\n",
    "pressao = widgets.Text(description=\"Pressão diastólica (a menor delas): \")\n",
    "insulina = widgets.Text(description=\"Insulina sérica 2 horas depois de ter bebido o líquido açucarado: \")\n",
    "imc = widgets.Text(description=\"IMC (peso (kg) / [altura (m) x altura (m)]: \")\n",
    "idade = widgets.Text(description=\"Idade? \")\n",
    "\n",
    "botao = widgets.Button(description=\"Simular\")\n",
    "\n",
    "# Posicionando os controles\n",
    "left = VBox([quantidade_gravidez, glicose, pressao])\n",
    "right = VBox([insulina, imc, idade])\n",
    "inputs = HBox([left, right])\n",
    "\n",
    "# Função de simulação\n",
    "def simulador(sender):\n",
    "    entrada=[[\n",
    "                int(quantidade_gravidez.value if quantidade_gravidez.value else 0), \n",
    "                int(glicose.value if glicose.value else 120), \n",
    "                int(pressao.value if pressao.value else 80), \n",
    "                int(insulina.value if insulina.value else 0), \n",
    "                float(imc.value if imc.value else 0), \n",
    "                int(idade.value if idade.value else 0)\n",
    "             ]]\n",
    "    pessoa = {'quantidade_gravidez': int(quantidade_gravidez.value if quantidade_gravidez.value else 0), \n",
    "              'concentracao_glicose': int(glicose.value if glicose.value else 120), \n",
    "              'pressao': int(pressao.value if pressao.value else 80),\n",
    "              'insulina': int(insulina.value if insulina.value else 0),\n",
    "              'imc': float(imc.value if imc.value else 0),\n",
    "              'idade': int(idade.value if idade.value else 0)\n",
    "             }\n",
    "    pessoa = pd.DataFrame(data = pessoa, index=[0])\n",
    "    probabilidade = modelo.predict_proba(pessoa)[0][1]\n",
    "    \n",
    "    print('A probabilidade de ser diabética é de {:.2f}%'.format(probabilidade * 100))\n",
    "    \n",
    "\n",
    "# Atribuindo a função \"simulador\" ao evento click do botão\n",
    "botao.on_click(simulador) "
   ]
  },
  {
   "cell_type": "code",
   "execution_count": 32,
   "id": "bea293f4",
   "metadata": {},
   "outputs": [
    {
     "data": {
      "application/vnd.jupyter.widget-view+json": {
       "model_id": "94289a7a8b04450abefdc6e980d08888",
       "version_major": 2,
       "version_minor": 0
      },
      "text/plain": [
       "HBox(children=(VBox(children=(Text(value='', description='Gravidez qtde? '), Text(value='', description='Glico…"
      ]
     },
     "metadata": {},
     "output_type": "display_data"
    },
    {
     "data": {
      "application/vnd.jupyter.widget-view+json": {
       "model_id": "10c1ddc5fbfd4494a9125de4ec10d3bb",
       "version_major": 2,
       "version_minor": 0
      },
      "text/plain": [
       "Button(description='Simular', style=ButtonStyle())"
      ]
     },
     "metadata": {},
     "output_type": "display_data"
    }
   ],
   "source": [
    "\n",
    "display(inputs, botao)"
   ]
  },
  {
   "cell_type": "code",
   "execution_count": null,
   "id": "2fbb3b3e",
   "metadata": {},
   "outputs": [],
   "source": []
  }
 ],
 "metadata": {
  "kernelspec": {
   "display_name": "Python 3",
   "language": "python",
   "name": "python3"
  },
  "language_info": {
   "codemirror_mode": {
    "name": "ipython",
    "version": 3
   },
   "file_extension": ".py",
   "mimetype": "text/x-python",
   "name": "python",
   "nbconvert_exporter": "python",
   "pygments_lexer": "ipython3",
   "version": "3.8.8"
  }
 },
 "nbformat": 4,
 "nbformat_minor": 5
}
